{
 "cells": [
  {
   "cell_type": "code",
   "execution_count": 11,
   "metadata": {
    "collapsed": true
   },
   "outputs": [],
   "source": [
    "import os\n",
    "import re\n",
    "from tqdm import tqdm\n",
    "import pandas as pd"
   ]
  },
  {
   "cell_type": "code",
   "execution_count": 3,
   "metadata": {
    "collapsed": true
   },
   "outputs": [],
   "source": [
    "html_list = os.listdir(\"./zerodayinitiative\")"
   ]
  },
  {
   "cell_type": "code",
   "execution_count": null,
   "metadata": {
    "collapsed": true
   },
   "outputs": [],
   "source": []
  },
  {
   "cell_type": "code",
   "execution_count": 4,
   "metadata": {
    "collapsed": true
   },
   "outputs": [],
   "source": [
    "pattern_all = re.compile(\"<a href=\\\".*\\\".*>.*</a>\")\n",
    "pattern_h4 = re.compile(\"<h4>.*</h4>\")\n",
    "pattern_tag = ['CVE ID', 'CVSS Score', 'Affected Vendors', 'Affected Products', 'Vulnerability Details', 'Vendor Response', 'Disclosure Timeline', 'Credit']"
   ]
  },
  {
   "cell_type": "code",
   "execution_count": 5,
   "metadata": {},
   "outputs": [
    {
     "data": {
      "text/plain": [
       "['<h4>CVE ID</h4>',\n",
       " '<h4>CVSS Score</h4>',\n",
       " '<h4>Affected Vendors</h4>',\n",
       " '<h4>Affected Products</h4>',\n",
       " '<h4>Vulnerability Details</h4>',\n",
       " '<h4>Vendor Response</h4>',\n",
       " '<h4>Disclosure Timeline</h4>',\n",
       " '<h4>Credit</h4>']"
      ]
     },
     "execution_count": 5,
     "metadata": {},
     "output_type": "execute_result"
    }
   ],
   "source": [
    "pattern_tag = ['<h4>'+x+'</h4>' for x in pattern_tag]\n",
    "pattern_tag"
   ]
  },
  {
   "cell_type": "code",
   "execution_count": 6,
   "metadata": {
    "collapsed": true
   },
   "outputs": [],
   "source": [
    "useless_tag = ['<ul>','</ul>','<br />']"
   ]
  },
  {
   "cell_type": "code",
   "execution_count": 20,
   "metadata": {
    "scrolled": false
   },
   "outputs": [
    {
     "name": "stderr",
     "output_type": "stream",
     "text": [
      "100%|████████████████████████████████████████████████████████████████████████████| 1708/1708 [00:00<00:00, 2037.63it/s]\n"
     ]
    }
   ],
   "source": [
    "all_result = []\n",
    "for file_name in tqdm(html_list[:]):\n",
    "    \n",
    "    file_result = [''] * len(pattern_tag)\n",
    "    \n",
    "    f = open(\"./zerodayinitiative/\"+file_name, \"r\")\n",
    "    html = f.readlines()\n",
    "    \n",
    "    tag = -1\n",
    "    for line in html:\n",
    "        line = line.strip().strip('\\n')\n",
    "        if line == '': continue\n",
    "#         print(line)\n",
    "\n",
    "        searchobj = pattern_h4.search(line)\n",
    "        if searchobj:\n",
    "#             print(line)\n",
    "            tag = -1\n",
    "            if line in pattern_tag:\n",
    "                tag = pattern_tag.index(line)\n",
    "                continue\n",
    "\n",
    "#         for index, pattern in enumerate(pattern_tag):\n",
    "#             if line == pattern:  \n",
    "#                 tag = index\n",
    "#                 print(tag)\n",
    "#                 break\n",
    "                \n",
    "        \n",
    "        if tag == 7 and line == '</div>':\n",
    "            break\n",
    "            \n",
    "        if not tag == -1:\n",
    "            if line in useless_tag: continue\n",
    "            line = line.replace(\"<br />\", \"\").replace(\"<p>\", \"\").replace(\"</p>\", \"\").replace(\"<ul>\", \"\").replace(\"</ul>\", \"\").strip()\n",
    "            line = line.replace(\"<b>\", \"\").replace(\"</b>\", \"\").strip()\n",
    "            line = re.sub('<a href=\\\".*\\\".*?>', '', line).replace(\"</a>\", \"\") \n",
    "#             print(tag, line)\n",
    "            if file_result[tag] == '':\n",
    "                file_result[tag] = line\n",
    "            else:\n",
    "                file_result[tag] = file_result[tag] + \" \" + line\n",
    "            if \"<\" in line:\n",
    "                print(\"error\", line)\n",
    "                \n",
    "#     for index, result in enumerate(file_result):\n",
    "#         print(index, result)\n",
    "    file_result.append(file_name)\n",
    "    all_result.append(file_result)\n",
    "            \n",
    "#         searchobj = pattern_all.search(line)\n",
    "#         if searchobj:\n",
    "#             print(line)\n",
    "#         break\n",
    "#     break\n",
    "#     print(\"\\n\")"
   ]
  },
  {
   "cell_type": "code",
   "execution_count": 21,
   "metadata": {
    "collapsed": true
   },
   "outputs": [],
   "source": [
    "columns = ['CVE ID', 'CVSS Score', 'Affected Vendors', 'Affected Products', 'Vulnerability Details', 'Vendor Response', 'Disclosure Timeline', 'Credit', 'filename']\n",
    "result_pd = pd.DataFrame(all_result, columns=columns)"
   ]
  },
  {
   "cell_type": "code",
   "execution_count": 23,
   "metadata": {},
   "outputs": [],
   "source": [
    "result_pd.to_csv(\"zeroday.csv\", index=False)"
   ]
  },
  {
   "cell_type": "code",
   "execution_count": 75,
   "metadata": {},
   "outputs": [
    {
     "data": {
      "text/plain": [
       "'CVE-2015-7939'"
      ]
     },
     "execution_count": 75,
     "metadata": {},
     "output_type": "execute_result"
    }
   ],
   "source": [
    "line = '<a href=\"http://www.cve.mitre.org/cgi-bin/cvename.cgi?name=CVE-2015-7939\">CVE-2015-7939</a>'\n",
    "re.sub('<a href=\\\".*\\\".*?>', '', line).replace(\"</a>\", \"\")"
   ]
  },
  {
   "cell_type": "code",
   "execution_count": null,
   "metadata": {
    "collapsed": true
   },
   "outputs": [],
   "source": [
    "rereobj = re.compile(regex) "
   ]
  },
  {
   "cell_type": "code",
   "execution_count": 67,
   "metadata": {},
   "outputs": [
    {
     "data": {
      "text/plain": [
       "'Mork'"
      ]
     },
     "execution_count": 67,
     "metadata": {},
     "output_type": "execute_result"
    }
   ],
   "source": [
    "re.sub('[abc]', 'o', 'Mark') "
   ]
  },
  {
   "cell_type": "code",
   "execution_count": null,
   "metadata": {
    "collapsed": true
   },
   "outputs": [],
   "source": []
  },
  {
   "cell_type": "code",
   "execution_count": null,
   "metadata": {
    "collapsed": true
   },
   "outputs": [],
   "source": [
    "<h4>CVE ID</h4>"
   ]
  },
  {
   "cell_type": "code",
   "execution_count": 26,
   "metadata": {},
   "outputs": [
    {
     "data": {
      "text/plain": [
       "'<!DOCTYPE html PUBLIC \"-//W3C//DTD XHTML 1.0 Strict//EN\" \"http://www.w3.org/TR/xhtml1/DTD/xhtml1-strict.dtd\">'"
      ]
     },
     "execution_count": 26,
     "metadata": {},
     "output_type": "execute_result"
    }
   ],
   "source": [
    "line.strip('\\n')"
   ]
  },
  {
   "cell_type": "code",
   "execution_count": 23,
   "metadata": {},
   "outputs": [
    {
     "data": {
      "text/plain": [
       "'<!DOCTYPE html PUBLIC \"-//W3C//DTD XHTML 1.0 Strict//EN\" \"http://www.w3.org/TR/xhtml1/DTD/xhtml1-strict.dtd\">\\n'"
      ]
     },
     "execution_count": 23,
     "metadata": {},
     "output_type": "execute_result"
    }
   ],
   "source": [
    "line"
   ]
  },
  {
   "cell_type": "code",
   "execution_count": null,
   "metadata": {
    "collapsed": true
   },
   "outputs": [],
   "source": []
  }
 ],
 "metadata": {
  "kernelspec": {
   "display_name": "Python 3",
   "language": "python",
   "name": "python3"
  },
  "language_info": {
   "codemirror_mode": {
    "name": "ipython",
    "version": 3
   },
   "file_extension": ".py",
   "mimetype": "text/x-python",
   "name": "python",
   "nbconvert_exporter": "python",
   "pygments_lexer": "ipython3",
   "version": "3.6.1"
  }
 },
 "nbformat": 4,
 "nbformat_minor": 2
}
